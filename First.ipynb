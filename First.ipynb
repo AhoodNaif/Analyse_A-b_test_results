{
  "nbformat": 4,
  "nbformat_minor": 0,
  "metadata": {
    "colab": {
      "provenance": [],
      "authorship_tag": "ABX9TyO9T3mW6pORbmwH2MsCFMcN",
      "include_colab_link": true
    },
    "kernelspec": {
      "name": "python3",
      "display_name": "Python 3"
    },
    "language_info": {
      "name": "python"
    }
  },
  "cells": [
    {
      "cell_type": "markdown",
      "metadata": {
        "id": "view-in-github",
        "colab_type": "text"
      },
      "source": [
        "<a href=\"https://colab.research.google.com/github/AhoodNaif/Analyse_A-b_test_results/blob/master/First.ipynb\" target=\"_parent\"><img src=\"https://colab.research.google.com/assets/colab-badge.svg\" alt=\"Open In Colab\"/></a>"
      ]
    },
    {
      "cell_type": "code",
      "execution_count": 1,
      "metadata": {
        "id": "rrN5NJBDLLst"
      },
      "outputs": [],
      "source": []
    },
    {
      "cell_type": "markdown",
      "source": [
        "#Hello\n"
      ],
      "metadata": {
        "id": "d-HCFicLLUP0"
      }
    },
    {
      "cell_type": "code",
      "source": [
        "print(\"hello Ohoud\")"
      ],
      "metadata": {
        "id": "WIsvEeaEL8pr"
      },
      "execution_count": null,
      "outputs": []
    }
  ]
}